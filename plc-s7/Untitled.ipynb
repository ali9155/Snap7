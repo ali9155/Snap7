{
 "cells": [
  {
   "cell_type": "code",
   "execution_count": 1,
   "metadata": {},
   "outputs": [],
   "source": [
    " import snap7.client as c"
   ]
  },
  {
   "cell_type": "code",
   "execution_count": 3,
   "metadata": {},
   "outputs": [
    {
     "name": "stdout",
     "output_type": "stream",
     "text": [
      "Requirement already satisfied: python-snap7 in c:\\programdata\\anaconda3\\lib\\site-packages (0.11)\n",
      "Note: you may need to restart the kernel to use updated packages.\n"
     ]
    }
   ],
   "source": [
    "pip install python-snap7"
   ]
  },
  {
   "cell_type": "code",
   "execution_count": 2,
   "metadata": {},
   "outputs": [
    {
     "ename": "IndentationError",
     "evalue": "unexpected indent (<ipython-input-2-c2e33b7ed28b>, line 2)",
     "output_type": "error",
     "traceback": [
      "\u001b[1;36m  File \u001b[1;32m\"<ipython-input-2-c2e33b7ed28b>\"\u001b[1;36m, line \u001b[1;32m2\u001b[0m\n\u001b[1;33m    from snap7.util import *\u001b[0m\n\u001b[1;37m    ^\u001b[0m\n\u001b[1;31mIndentationError\u001b[0m\u001b[1;31m:\u001b[0m unexpected indent\n"
     ]
    }
   ],
   "source": [
    "import snap7.client as c\n",
    " from snap7.util import *\n",
    " from time import sleep\n",
    "\n",
    "\n",
    " def WriteOutput(dev,bytebit,cmd):\n",
    "     byte,bit = bytebit.split('.')\n",
    "     byte,bit = int(byte),int(bit)\n",
    "     data = dev.read_area(0x82,0,byte,1)\n",
    "     set_bool(data,byte,bit,cmd)\n",
    "     dev.write_area(0x82,byte,data)\n",
    "\n",
    " def main():\n",
    "     myplc = snap7.client.Client()\n",
    "     myplc.connect('192.168.1.150',0,1)\n",
    "     for x in range(10):\n",
    "         WriteOutput(myplc,'0.0',x%2==0) # turns true every other iteration\n",
    "         sleep(1)\n",
    "\n",
    " if __name__ == \"__main__\":\n",
    "     main()"
   ]
  },
  {
   "cell_type": "code",
   "execution_count": null,
   "metadata": {},
   "outputs": [],
   "source": []
  }
 ],
 "metadata": {
  "kernelspec": {
   "display_name": "Python 3",
   "language": "python",
   "name": "python3"
  },
  "language_info": {
   "codemirror_mode": {
    "name": "ipython",
    "version": 3
   },
   "file_extension": ".py",
   "mimetype": "text/x-python",
   "name": "python",
   "nbconvert_exporter": "python",
   "pygments_lexer": "ipython3",
   "version": "3.7.3"
  }
 },
 "nbformat": 4,
 "nbformat_minor": 2
}
